{
 "cells": [
  {
   "cell_type": "code",
   "execution_count": 1,
   "metadata": {},
   "outputs": [
    {
     "name": "stdout",
     "output_type": "stream",
     "text": [
      "Collecting pmdarima"
     ]
    },
    {
     "name": "stderr",
     "output_type": "stream",
     "text": [
      "ERROR: Could not install packages due to an EnvironmentError: [WinError 5] Access is denied: 'c:\\\\users\\\\shweta.jain\\\\anaconda3\\\\envs\\\\pythondata\\\\lib\\\\site-packages\\\\~umpy\\\\core\\\\_multiarray_tests.cp37-win_amd64.pyd'\n",
      "Consider using the `--user` option or check the permissions.\n",
      "\n"
     ]
    },
    {
     "name": "stdout",
     "output_type": "stream",
     "text": [
      "\n",
      "  Downloading pmdarima-2.0.3-cp37-cp37m-win_amd64.whl (569 kB)\n",
      "Requirement already satisfied: pandas>=0.19 in c:\\users\\shweta.jain\\anaconda3\\envs\\pythondata\\lib\\site-packages (from pmdarima) (1.0.5)\n",
      "Collecting statsmodels>=0.13.2\n",
      "  Downloading statsmodels-0.13.5-cp37-cp37m-win_amd64.whl (9.1 MB)\n",
      "Collecting Cython!=0.29.18,!=0.29.31,>=0.29\n",
      "  Downloading Cython-0.29.35-py2.py3-none-any.whl (988 kB)\n",
      "Collecting numpy>=1.21.2\n",
      "  Downloading numpy-1.21.6-cp37-cp37m-win_amd64.whl (14.0 MB)\n",
      "Requirement already satisfied: urllib3 in c:\\users\\shweta.jain\\anaconda3\\envs\\pythondata\\lib\\site-packages (from pmdarima) (1.26.14)\n",
      "Requirement already satisfied: setuptools!=50.0.0,>=38.6.0 in c:\\users\\shweta.jain\\anaconda3\\envs\\pythondata\\lib\\site-packages (from pmdarima) (47.3.1.post20200622)\n",
      "Requirement already satisfied: joblib>=0.11 in c:\\users\\shweta.jain\\anaconda3\\envs\\pythondata\\lib\\site-packages (from pmdarima) (1.2.0)\n",
      "Requirement already satisfied: scikit-learn>=0.22 in c:\\users\\shweta.jain\\anaconda3\\envs\\pythondata\\lib\\site-packages (from pmdarima) (1.0.2)\n",
      "Requirement already satisfied: scipy>=1.3.2 in c:\\users\\shweta.jain\\anaconda3\\envs\\pythondata\\lib\\site-packages (from pmdarima) (1.5.0)\n",
      "Requirement already satisfied: python-dateutil>=2.6.1 in c:\\users\\shweta.jain\\anaconda3\\envs\\pythondata\\lib\\site-packages (from pandas>=0.19->pmdarima) (2.8.1)\n",
      "Requirement already satisfied: pytz>=2017.2 in c:\\users\\shweta.jain\\anaconda3\\envs\\pythondata\\lib\\site-packages (from pandas>=0.19->pmdarima) (2020.1)\n",
      "Collecting patsy>=0.5.2\n",
      "  Downloading patsy-0.5.3-py2.py3-none-any.whl (233 kB)\n",
      "Requirement already satisfied: packaging>=21.3 in c:\\users\\shweta.jain\\anaconda3\\envs\\pythondata\\lib\\site-packages (from statsmodels>=0.13.2->pmdarima) (21.3)\n",
      "Requirement already satisfied: threadpoolctl>=2.0.0 in c:\\users\\shweta.jain\\anaconda3\\envs\\pythondata\\lib\\site-packages (from scikit-learn>=0.22->pmdarima) (3.1.0)\n",
      "Requirement already satisfied: six>=1.5 in c:\\users\\shweta.jain\\anaconda3\\envs\\pythondata\\lib\\site-packages (from python-dateutil>=2.6.1->pandas>=0.19->pmdarima) (1.15.0)\n",
      "Requirement already satisfied: pyparsing!=3.0.5,>=2.0.2 in c:\\users\\shweta.jain\\anaconda3\\envs\\pythondata\\lib\\site-packages (from packaging>=21.3->statsmodels>=0.13.2->pmdarima) (2.4.7)\n",
      "Installing collected packages: numpy, patsy, statsmodels, Cython, pmdarima\n",
      "  Attempting uninstall: numpy\n",
      "    Found existing installation: numpy 1.18.5\n",
      "    Uninstalling numpy-1.18.5:\n",
      "      Successfully uninstalled numpy-1.18.5\n"
     ]
    }
   ],
   "source": [
    "! pip install pmdarima"
   ]
  }
 ],
 "metadata": {
  "kernelspec": {
   "display_name": "PythonData",
   "language": "python",
   "name": "python3"
  },
  "language_info": {
   "codemirror_mode": {
    "name": "ipython",
    "version": 3
   },
   "file_extension": ".py",
   "mimetype": "text/x-python",
   "name": "python",
   "nbconvert_exporter": "python",
   "pygments_lexer": "ipython3",
   "version": "3.7.7"
  },
  "orig_nbformat": 4
 },
 "nbformat": 4,
 "nbformat_minor": 2
}
